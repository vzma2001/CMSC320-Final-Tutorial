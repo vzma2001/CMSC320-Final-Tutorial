{
 "metadata": {
  "language_info": {
   "codemirror_mode": {
    "name": "ipython",
    "version": 3
   },
   "file_extension": ".py",
   "mimetype": "text/x-python",
   "name": "python",
   "nbconvert_exporter": "python",
   "pygments_lexer": "ipython3",
   "version": "3.8.5"
  },
  "orig_nbformat": 2,
  "kernelspec": {
   "name": "python385jvsc74a57bd0cce707212dcff894ee4399f80b62609315a31853d655b5caa9909589704bbce4",
   "display_name": "Python 3.8.5 64-bit ('base': conda)"
  }
 },
 "nbformat": 4,
 "nbformat_minor": 2,
 "cells": [
  {
   "cell_type": "code",
   "execution_count": 91,
   "metadata": {},
   "outputs": [],
   "source": [
    "import numpy as np\n",
    "import pandas as pd\n",
    "from os import listdir\n",
    "from os.path import isfile, join"
   ]
  },
  {
   "cell_type": "code",
   "execution_count": 92,
   "metadata": {},
   "outputs": [],
   "source": [
    "#Go though Web Export, split on ;\n",
    "id = 1\n",
    "label = ['Id','Banner','Item','Type','Rarity','Date']\n",
    "rolls = pd.DataFrame(columns = label)\n",
    "web_dir = \"C:/Users/vzma/spring2021/CMSC320-Final-Tutorial/Data/WebExport\"\n",
    "for f in listdir(web_dir):\n",
    "    if isfile(join(web_dir, f)):\n",
    "        curr = pd.read_csv(join(web_dir, f))\n",
    "        for index,line in curr.iterrows():\n",
    "            temp = line[0].split(';')\n",
    "            to_add = [id,temp[0],temp[2],temp[3],temp[4],temp[5][:-1].replace('T', ' ')]\n",
    "            rolls.loc[len(rolls.index)] = to_add\n",
    "        id = id+1"
   ]
  },
  {
   "cell_type": "code",
   "execution_count": 93,
   "metadata": {},
   "outputs": [],
   "source": [
    "#Go though External Export get rid of stars\n",
    "ext_dir = \"C:/Users/vzma/spring2021/CMSC320-Final-Tutorial/Data/ExternalExport\"\n",
    "b = ['Character Event Wish History', 'Permanent Wish History', 'Weapon Event Wish History', 'Novice Wish History']\n",
    "for f in listdir(ext_dir):\n",
    "    if isfile(join(ext_dir, f)):\n",
    "        notebook = pd.ExcelFile(join(ext_dir, f))\n",
    "        for sheet in b:\n",
    "            curr = pd.read_excel(notebook,sheet_name=sheet)\n",
    "            for index,line in curr.iterrows():\n",
    "                to_add = [id,line['Banner'],line['Item Name'],line['Item Type'],len(line['Item Rarity']),line['Date and Time']]\n",
    "                rolls.loc[len(rolls.index)] = to_add\n",
    "        id = id+1"
   ]
  },
  {
   "cell_type": "code",
   "execution_count": 94,
   "metadata": {},
   "outputs": [],
   "source": [
    "#Find Chinese document and figure out if it can be translated or just trash\n",
    "name_dir = \"C:/Users/vzma/spring2021/CMSC320-Final-Tutorial/Data/Export/rewardname\"\n",
    "b = ['Character Event Wish', 'Permanent Wish', 'Weapon Event Wish', 'Novice Wishes']\n",
    "for f in listdir(name_dir):\n",
    "    if isfile(join(name_dir, f)):\n",
    "        notebook = pd.ExcelFile(join(name_dir, f))\n",
    "        for sheet in b:\n",
    "            curr = pd.read_excel(notebook,sheet_name=sheet)\n",
    "            for index,line in curr.iterrows():\n",
    "                to_add = [id,line['Banner'],line['Reward Name'],line['Reward Type'],line['Rarity (Star)'],line['Timestamp']]\n",
    "                rolls.loc[len(rolls.index)] = to_add\n",
    "        id = id+1"
   ]
  },
  {
   "cell_type": "code",
   "execution_count": 95,
   "metadata": {},
   "outputs": [],
   "source": [
    "main_dir = \"C:/Users/vzma/spring2021/CMSC320-Final-Tutorial/Data/Export/name\"\n",
    "b = ['Character Event Wish', 'Permanent Wish', 'Weapon Event Wish', 'Novice Wishes']\n",
    "for f in listdir(main_dir):\n",
    "    if isfile(join(main_dir, f)):\n",
    "        notebook = pd.ExcelFile(join(main_dir, f))\n",
    "        for sheet in b:\n",
    "            curr = pd.read_excel(notebook,sheet_name=sheet)\n",
    "            for index,line in curr.iterrows():\n",
    "                to_add = [id,line['Banner'],line['name'],line['type'],line['rarity'],line['time']]\n",
    "                rolls.loc[len(rolls.index)] = to_add\n",
    "        id = id+1"
   ]
  },
  {
   "cell_type": "code",
   "execution_count": 96,
   "metadata": {},
   "outputs": [
    {
     "output_type": "execute_result",
     "data": {
      "text/plain": [
       "       Id  Banner                     Item       Type Rarity  \\\n",
       "0       1  Novice                Raven Bow     Weapon      3   \n",
       "1       1  Novice              Magic Guide     Weapon      3   \n",
       "2       1  Novice           Ferrous Shadow     Weapon      3   \n",
       "3       1  Novice  Bloodtainted Greatsword     Weapon      3   \n",
       "4       1  Novice           Ferrous Shadow     Weapon      3   \n",
       "...    ..     ...                      ...        ...    ...   \n",
       "21235  21  Novice               Cool Steel     Weapon      3   \n",
       "21236  21  Novice                Ningguang  Character      4   \n",
       "21237  21  Novice        Harbinger of Dawn     Weapon      3   \n",
       "21238  21  Novice  Bloodtainted Greatsword     Weapon      3   \n",
       "21239  21  Novice           Skyrider Sword     Weapon      3   \n",
       "\n",
       "                      Date  \n",
       "0      2020-09-28 23:59:36  \n",
       "1      2020-09-28 23:59:36  \n",
       "2      2020-09-28 23:59:36  \n",
       "3      2020-09-28 23:59:36  \n",
       "4      2020-09-28 23:59:36  \n",
       "...                    ...  \n",
       "21235  2020-10-23 07:02:28  \n",
       "21236  2020-10-23 07:02:28  \n",
       "21237  2020-10-23 07:02:28  \n",
       "21238  2020-10-23 07:02:28  \n",
       "21239  2020-10-23 07:02:28  \n",
       "\n",
       "[21240 rows x 6 columns]"
      ],
      "text/html": "<div>\n<style scoped>\n    .dataframe tbody tr th:only-of-type {\n        vertical-align: middle;\n    }\n\n    .dataframe tbody tr th {\n        vertical-align: top;\n    }\n\n    .dataframe thead th {\n        text-align: right;\n    }\n</style>\n<table border=\"1\" class=\"dataframe\">\n  <thead>\n    <tr style=\"text-align: right;\">\n      <th></th>\n      <th>Id</th>\n      <th>Banner</th>\n      <th>Item</th>\n      <th>Type</th>\n      <th>Rarity</th>\n      <th>Date</th>\n    </tr>\n  </thead>\n  <tbody>\n    <tr>\n      <th>0</th>\n      <td>1</td>\n      <td>Novice</td>\n      <td>Raven Bow</td>\n      <td>Weapon</td>\n      <td>3</td>\n      <td>2020-09-28 23:59:36</td>\n    </tr>\n    <tr>\n      <th>1</th>\n      <td>1</td>\n      <td>Novice</td>\n      <td>Magic Guide</td>\n      <td>Weapon</td>\n      <td>3</td>\n      <td>2020-09-28 23:59:36</td>\n    </tr>\n    <tr>\n      <th>2</th>\n      <td>1</td>\n      <td>Novice</td>\n      <td>Ferrous Shadow</td>\n      <td>Weapon</td>\n      <td>3</td>\n      <td>2020-09-28 23:59:36</td>\n    </tr>\n    <tr>\n      <th>3</th>\n      <td>1</td>\n      <td>Novice</td>\n      <td>Bloodtainted Greatsword</td>\n      <td>Weapon</td>\n      <td>3</td>\n      <td>2020-09-28 23:59:36</td>\n    </tr>\n    <tr>\n      <th>4</th>\n      <td>1</td>\n      <td>Novice</td>\n      <td>Ferrous Shadow</td>\n      <td>Weapon</td>\n      <td>3</td>\n      <td>2020-09-28 23:59:36</td>\n    </tr>\n    <tr>\n      <th>...</th>\n      <td>...</td>\n      <td>...</td>\n      <td>...</td>\n      <td>...</td>\n      <td>...</td>\n      <td>...</td>\n    </tr>\n    <tr>\n      <th>21235</th>\n      <td>21</td>\n      <td>Novice</td>\n      <td>Cool Steel</td>\n      <td>Weapon</td>\n      <td>3</td>\n      <td>2020-10-23 07:02:28</td>\n    </tr>\n    <tr>\n      <th>21236</th>\n      <td>21</td>\n      <td>Novice</td>\n      <td>Ningguang</td>\n      <td>Character</td>\n      <td>4</td>\n      <td>2020-10-23 07:02:28</td>\n    </tr>\n    <tr>\n      <th>21237</th>\n      <td>21</td>\n      <td>Novice</td>\n      <td>Harbinger of Dawn</td>\n      <td>Weapon</td>\n      <td>3</td>\n      <td>2020-10-23 07:02:28</td>\n    </tr>\n    <tr>\n      <th>21238</th>\n      <td>21</td>\n      <td>Novice</td>\n      <td>Bloodtainted Greatsword</td>\n      <td>Weapon</td>\n      <td>3</td>\n      <td>2020-10-23 07:02:28</td>\n    </tr>\n    <tr>\n      <th>21239</th>\n      <td>21</td>\n      <td>Novice</td>\n      <td>Skyrider Sword</td>\n      <td>Weapon</td>\n      <td>3</td>\n      <td>2020-10-23 07:02:28</td>\n    </tr>\n  </tbody>\n</table>\n<p>21240 rows × 6 columns</p>\n</div>"
     },
     "metadata": {},
     "execution_count": 96
    }
   ],
   "source": [
    "rolls"
   ]
  },
  {
   "cell_type": "code",
   "execution_count": 107,
   "metadata": {},
   "outputs": [
    {
     "output_type": "stream",
     "name": "stdout",
     "text": [
      "3\n"
     ]
    },
    {
     "output_type": "error",
     "ename": "KeyError",
     "evalue": "0",
     "traceback": [
      "\u001b[1;31m---------------------------------------------------------------------------\u001b[0m",
      "\u001b[1;31mKeyError\u001b[0m                                  Traceback (most recent call last)",
      "\u001b[1;32m~\\Anaconda3\\lib\\site-packages\\pandas\\core\\indexes\\base.py\u001b[0m in \u001b[0;36mget_loc\u001b[1;34m(self, key, method, tolerance)\u001b[0m\n\u001b[0;32m   2894\u001b[0m             \u001b[1;32mtry\u001b[0m\u001b[1;33m:\u001b[0m\u001b[1;33m\u001b[0m\u001b[1;33m\u001b[0m\u001b[0m\n\u001b[1;32m-> 2895\u001b[1;33m                 \u001b[1;32mreturn\u001b[0m \u001b[0mself\u001b[0m\u001b[1;33m.\u001b[0m\u001b[0m_engine\u001b[0m\u001b[1;33m.\u001b[0m\u001b[0mget_loc\u001b[0m\u001b[1;33m(\u001b[0m\u001b[0mcasted_key\u001b[0m\u001b[1;33m)\u001b[0m\u001b[1;33m\u001b[0m\u001b[1;33m\u001b[0m\u001b[0m\n\u001b[0m\u001b[0;32m   2896\u001b[0m             \u001b[1;32mexcept\u001b[0m \u001b[0mKeyError\u001b[0m \u001b[1;32mas\u001b[0m \u001b[0merr\u001b[0m\u001b[1;33m:\u001b[0m\u001b[1;33m\u001b[0m\u001b[1;33m\u001b[0m\u001b[0m\n",
      "\u001b[1;32mpandas\\_libs\\index.pyx\u001b[0m in \u001b[0;36mpandas._libs.index.IndexEngine.get_loc\u001b[1;34m()\u001b[0m\n",
      "\u001b[1;32mpandas\\_libs\\index.pyx\u001b[0m in \u001b[0;36mpandas._libs.index.IndexEngine.get_loc\u001b[1;34m()\u001b[0m\n",
      "\u001b[1;32mpandas\\_libs\\hashtable_class_helper.pxi\u001b[0m in \u001b[0;36mpandas._libs.hashtable.Int64HashTable.get_item\u001b[1;34m()\u001b[0m\n",
      "\u001b[1;32mpandas\\_libs\\hashtable_class_helper.pxi\u001b[0m in \u001b[0;36mpandas._libs.hashtable.Int64HashTable.get_item\u001b[1;34m()\u001b[0m\n",
      "\u001b[1;31mKeyError\u001b[0m: 0",
      "\nThe above exception was the direct cause of the following exception:\n",
      "\u001b[1;31mKeyError\u001b[0m                                  Traceback (most recent call last)",
      "\u001b[1;32m<ipython-input-107-8da646ac8337>\u001b[0m in \u001b[0;36m<module>\u001b[1;34m\u001b[0m\n\u001b[0;32m      4\u001b[0m     \u001b[0mr\u001b[0m \u001b[1;33m=\u001b[0m \u001b[0mrolls\u001b[0m\u001b[1;33m.\u001b[0m\u001b[0mloc\u001b[0m\u001b[1;33m[\u001b[0m\u001b[0mrolls\u001b[0m\u001b[1;33m[\u001b[0m\u001b[1;34m'Item'\u001b[0m\u001b[1;33m]\u001b[0m\u001b[1;33m==\u001b[0m\u001b[0mw\u001b[0m\u001b[1;33m]\u001b[0m\u001b[1;33m\u001b[0m\u001b[1;33m\u001b[0m\u001b[0m\n\u001b[0;32m      5\u001b[0m     \u001b[0mx\u001b[0m \u001b[1;33m=\u001b[0m \u001b[0mr\u001b[0m\u001b[1;33m[\u001b[0m\u001b[1;34m'Rarity'\u001b[0m\u001b[1;33m]\u001b[0m\u001b[1;33m\u001b[0m\u001b[1;33m\u001b[0m\u001b[0m\n\u001b[1;32m----> 6\u001b[1;33m     \u001b[0mprint\u001b[0m\u001b[1;33m(\u001b[0m\u001b[0mx\u001b[0m\u001b[1;33m[\u001b[0m\u001b[1;36m0\u001b[0m\u001b[1;33m]\u001b[0m\u001b[1;33m)\u001b[0m\u001b[1;33m\u001b[0m\u001b[1;33m\u001b[0m\u001b[0m\n\u001b[0m\u001b[0;32m      7\u001b[0m     \u001b[0mto_add\u001b[0m \u001b[1;33m=\u001b[0m \u001b[1;33m[\u001b[0m\u001b[0mw\u001b[0m\u001b[1;33m,\u001b[0m \u001b[0mx\u001b[0m\u001b[1;33m,\u001b[0m \u001b[0mlen\u001b[0m\u001b[1;33m(\u001b[0m\u001b[0mr\u001b[0m\u001b[1;33m)\u001b[0m\u001b[1;33m]\u001b[0m\u001b[1;33m\u001b[0m\u001b[1;33m\u001b[0m\u001b[0m\n\u001b[0;32m      8\u001b[0m     \u001b[0mweapons\u001b[0m\u001b[1;33m.\u001b[0m\u001b[0mloc\u001b[0m\u001b[1;33m[\u001b[0m\u001b[0mlen\u001b[0m\u001b[1;33m(\u001b[0m\u001b[0mweapons\u001b[0m\u001b[1;33m.\u001b[0m\u001b[0mindex\u001b[0m\u001b[1;33m)\u001b[0m\u001b[1;33m]\u001b[0m \u001b[1;33m=\u001b[0m \u001b[0mto_add\u001b[0m\u001b[1;33m\u001b[0m\u001b[1;33m\u001b[0m\u001b[0m\n",
      "\u001b[1;32m~\\Anaconda3\\lib\\site-packages\\pandas\\core\\series.py\u001b[0m in \u001b[0;36m__getitem__\u001b[1;34m(self, key)\u001b[0m\n\u001b[0;32m    880\u001b[0m \u001b[1;33m\u001b[0m\u001b[0m\n\u001b[0;32m    881\u001b[0m         \u001b[1;32melif\u001b[0m \u001b[0mkey_is_scalar\u001b[0m\u001b[1;33m:\u001b[0m\u001b[1;33m\u001b[0m\u001b[1;33m\u001b[0m\u001b[0m\n\u001b[1;32m--> 882\u001b[1;33m             \u001b[1;32mreturn\u001b[0m \u001b[0mself\u001b[0m\u001b[1;33m.\u001b[0m\u001b[0m_get_value\u001b[0m\u001b[1;33m(\u001b[0m\u001b[0mkey\u001b[0m\u001b[1;33m)\u001b[0m\u001b[1;33m\u001b[0m\u001b[1;33m\u001b[0m\u001b[0m\n\u001b[0m\u001b[0;32m    883\u001b[0m \u001b[1;33m\u001b[0m\u001b[0m\n\u001b[0;32m    884\u001b[0m         \u001b[1;32mif\u001b[0m \u001b[0mis_hashable\u001b[0m\u001b[1;33m(\u001b[0m\u001b[0mkey\u001b[0m\u001b[1;33m)\u001b[0m\u001b[1;33m:\u001b[0m\u001b[1;33m\u001b[0m\u001b[1;33m\u001b[0m\u001b[0m\n",
      "\u001b[1;32m~\\Anaconda3\\lib\\site-packages\\pandas\\core\\series.py\u001b[0m in \u001b[0;36m_get_value\u001b[1;34m(self, label, takeable)\u001b[0m\n\u001b[0;32m    987\u001b[0m \u001b[1;33m\u001b[0m\u001b[0m\n\u001b[0;32m    988\u001b[0m         \u001b[1;31m# Similar to Index.get_value, but we do not fall back to positional\u001b[0m\u001b[1;33m\u001b[0m\u001b[1;33m\u001b[0m\u001b[1;33m\u001b[0m\u001b[0m\n\u001b[1;32m--> 989\u001b[1;33m         \u001b[0mloc\u001b[0m \u001b[1;33m=\u001b[0m \u001b[0mself\u001b[0m\u001b[1;33m.\u001b[0m\u001b[0mindex\u001b[0m\u001b[1;33m.\u001b[0m\u001b[0mget_loc\u001b[0m\u001b[1;33m(\u001b[0m\u001b[0mlabel\u001b[0m\u001b[1;33m)\u001b[0m\u001b[1;33m\u001b[0m\u001b[1;33m\u001b[0m\u001b[0m\n\u001b[0m\u001b[0;32m    990\u001b[0m         \u001b[1;32mreturn\u001b[0m \u001b[0mself\u001b[0m\u001b[1;33m.\u001b[0m\u001b[0mindex\u001b[0m\u001b[1;33m.\u001b[0m\u001b[0m_get_values_for_loc\u001b[0m\u001b[1;33m(\u001b[0m\u001b[0mself\u001b[0m\u001b[1;33m,\u001b[0m \u001b[0mloc\u001b[0m\u001b[1;33m,\u001b[0m \u001b[0mlabel\u001b[0m\u001b[1;33m)\u001b[0m\u001b[1;33m\u001b[0m\u001b[1;33m\u001b[0m\u001b[0m\n\u001b[0;32m    991\u001b[0m \u001b[1;33m\u001b[0m\u001b[0m\n",
      "\u001b[1;32m~\\Anaconda3\\lib\\site-packages\\pandas\\core\\indexes\\base.py\u001b[0m in \u001b[0;36mget_loc\u001b[1;34m(self, key, method, tolerance)\u001b[0m\n\u001b[0;32m   2895\u001b[0m                 \u001b[1;32mreturn\u001b[0m \u001b[0mself\u001b[0m\u001b[1;33m.\u001b[0m\u001b[0m_engine\u001b[0m\u001b[1;33m.\u001b[0m\u001b[0mget_loc\u001b[0m\u001b[1;33m(\u001b[0m\u001b[0mcasted_key\u001b[0m\u001b[1;33m)\u001b[0m\u001b[1;33m\u001b[0m\u001b[1;33m\u001b[0m\u001b[0m\n\u001b[0;32m   2896\u001b[0m             \u001b[1;32mexcept\u001b[0m \u001b[0mKeyError\u001b[0m \u001b[1;32mas\u001b[0m \u001b[0merr\u001b[0m\u001b[1;33m:\u001b[0m\u001b[1;33m\u001b[0m\u001b[1;33m\u001b[0m\u001b[0m\n\u001b[1;32m-> 2897\u001b[1;33m                 \u001b[1;32mraise\u001b[0m \u001b[0mKeyError\u001b[0m\u001b[1;33m(\u001b[0m\u001b[0mkey\u001b[0m\u001b[1;33m)\u001b[0m \u001b[1;32mfrom\u001b[0m \u001b[0merr\u001b[0m\u001b[1;33m\u001b[0m\u001b[1;33m\u001b[0m\u001b[0m\n\u001b[0m\u001b[0;32m   2898\u001b[0m \u001b[1;33m\u001b[0m\u001b[0m\n\u001b[0;32m   2899\u001b[0m         \u001b[1;32mif\u001b[0m \u001b[0mtolerance\u001b[0m \u001b[1;32mis\u001b[0m \u001b[1;32mnot\u001b[0m \u001b[1;32mNone\u001b[0m\u001b[1;33m:\u001b[0m\u001b[1;33m\u001b[0m\u001b[1;33m\u001b[0m\u001b[0m\n",
      "\u001b[1;31mKeyError\u001b[0m: 0"
     ]
    }
   ],
   "source": [
    "weapons = pd.DataFrame(columns=['Item','Count','Rarity'])\n",
    "temp = rolls.loc[rolls['Type']=='Weapon'].Item.unique()\n",
    "for w in temp:\n",
    "    r = rolls.loc[rolls['Item']==w]\n",
    "    x = r['Rarity']\n",
    "    print(x[-1])\n",
    "    to_add = [w, x, len(r)]\n",
    "    weapons.loc[len(weapons.index)] = to_add"
   ]
  },
  {
   "cell_type": "code",
   "execution_count": null,
   "metadata": {},
   "outputs": [],
   "source": []
  }
 ]
}