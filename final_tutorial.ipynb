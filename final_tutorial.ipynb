{
 "metadata": {
  "language_info": {
   "codemirror_mode": {
    "name": "ipython",
    "version": 3
   },
   "file_extension": ".py",
   "mimetype": "text/x-python",
   "name": "python",
   "nbconvert_exporter": "python",
   "pygments_lexer": "ipython3",
   "version": "3.8.5"
  },
  "orig_nbformat": 2,
  "kernelspec": {
   "name": "python385jvsc74a57bd0cce707212dcff894ee4399f80b62609315a31853d655b5caa9909589704bbce4",
   "display_name": "Python 3.8.5 64-bit ('base': conda)"
  }
 },
 "nbformat": 4,
 "nbformat_minor": 2,
 "cells": [
  {
   "cell_type": "code",
   "execution_count": 91,
   "metadata": {},
   "outputs": [],
   "source": [
    "import numpy as np\n",
    "import pandas as pd\n",
    "from os import listdir\n",
    "from os.path import isfile, join"
   ]
  },
  {
   "cell_type": "code",
   "execution_count": 92,
   "metadata": {},
   "outputs": [],
   "source": [
    "#Go though Web Export, split on ;\n",
    "id = 1\n",
    "label = ['Id','Banner','Item','Type','Rarity','Date']\n",
    "rolls = pd.DataFrame(columns = label)\n",
    "web_dir = \"C:/Users/vzma/spring2021/CMSC320-Final-Tutorial/Data/WebExport\"\n",
    "for f in listdir(web_dir):\n",
    "    if isfile(join(web_dir, f)):\n",
    "        curr = pd.read_csv(join(web_dir, f))\n",
    "        for index,line in curr.iterrows():\n",
    "            temp = line[0].split(';')\n",
    "            to_add = [id,temp[0],temp[2],temp[3],temp[4],temp[5][:-1].replace('T', ' ')]\n",
    "            rolls.loc[len(rolls.index)] = to_add\n",
    "        id = id+1"
   ]
  },
  {
   "cell_type": "code",
   "execution_count": 93,
   "metadata": {},
   "outputs": [],
   "source": [
    "#Go though External Export get rid of stars\n",
    "ext_dir = \"C:/Users/vzma/spring2021/CMSC320-Final-Tutorial/Data/ExternalExport\"\n",
    "b = ['Character Event Wish History', 'Permanent Wish History', 'Weapon Event Wish History', 'Novice Wish History']\n",
    "for f in listdir(ext_dir):\n",
    "    if isfile(join(ext_dir, f)):\n",
    "        notebook = pd.ExcelFile(join(ext_dir, f))\n",
    "        for sheet in b:\n",
    "            curr = pd.read_excel(notebook,sheet_name=sheet)\n",
    "            for index,line in curr.iterrows():\n",
    "                to_add = [id,line['Banner'],line['Item Name'],line['Item Type'],len(line['Item Rarity']),line['Date and Time']]\n",
    "                rolls.loc[len(rolls.index)] = to_add\n",
    "        id = id+1"
   ]
  },
  {
   "cell_type": "code",
   "execution_count": 94,
   "metadata": {},
   "outputs": [],
   "source": [
    "#Find Chinese document and figure out if it can be translated or just trash\n",
    "name_dir = \"C:/Users/vzma/spring2021/CMSC320-Final-Tutorial/Data/Export/rewardname\"\n",
    "b = ['Character Event Wish', 'Permanent Wish', 'Weapon Event Wish', 'Novice Wishes']\n",
    "for f in listdir(name_dir):\n",
    "    if isfile(join(name_dir, f)):\n",
    "        notebook = pd.ExcelFile(join(name_dir, f))\n",
    "        for sheet in b:\n",
    "            curr = pd.read_excel(notebook,sheet_name=sheet)\n",
    "            for index,line in curr.iterrows():\n",
    "                to_add = [id,line['Banner'],line['Reward Name'],line['Reward Type'],line['Rarity (Star)'],line['Timestamp']]\n",
    "                rolls.loc[len(rolls.index)] = to_add\n",
    "        id = id+1"
   ]
  },
  {
   "cell_type": "code",
   "execution_count": 95,
   "metadata": {},
   "outputs": [],
   "source": [
    "main_dir = \"C:/Users/vzma/spring2021/CMSC320-Final-Tutorial/Data/Export/name\"\n",
    "b = ['Character Event Wish', 'Permanent Wish', 'Weapon Event Wish', 'Novice Wishes']\n",
    "for f in listdir(main_dir):\n",
    "    if isfile(join(main_dir, f)):\n",
    "        notebook = pd.ExcelFile(join(main_dir, f))\n",
    "        for sheet in b:\n",
    "            curr = pd.read_excel(notebook,sheet_name=sheet)\n",
    "            for index,line in curr.iterrows():\n",
    "                to_add = [id,line['Banner'],line['name'],line['type'],line['rarity'],line['time']]\n",
    "                rolls.loc[len(rolls.index)] = to_add\n",
    "        id = id+1"
   ]
  },
  {
   "cell_type": "code",
   "execution_count": 96,
   "metadata": {},
   "outputs": [
    {
     "output_type": "execute_result",
     "data": {
      "text/plain": [
       "       Id  Banner                     Item       Type Rarity  \\\n",
       "0       1  Novice                Raven Bow     Weapon      3   \n",
       "1       1  Novice              Magic Guide     Weapon      3   \n",
       "2       1  Novice           Ferrous Shadow     Weapon      3   \n",
       "3       1  Novice  Bloodtainted Greatsword     Weapon      3   \n",
       "4       1  Novice           Ferrous Shadow     Weapon      3   \n",
       "...    ..     ...                      ...        ...    ...   \n",
       "21235  21  Novice               Cool Steel     Weapon      3   \n",
       "21236  21  Novice                Ningguang  Character      4   \n",
       "21237  21  Novice        Harbinger of Dawn     Weapon      3   \n",
       "21238  21  Novice  Bloodtainted Greatsword     Weapon      3   \n",
       "21239  21  Novice           Skyrider Sword     Weapon      3   \n",
       "\n",
       "                      Date  \n",
       "0      2020-09-28 23:59:36  \n",
       "1      2020-09-28 23:59:36  \n",
       "2      2020-09-28 23:59:36  \n",
       "3      2020-09-28 23:59:36  \n",
       "4      2020-09-28 23:59:36  \n",
       "...                    ...  \n",
       "21235  2020-10-23 07:02:28  \n",
       "21236  2020-10-23 07:02:28  \n",
       "21237  2020-10-23 07:02:28  \n",
       "21238  2020-10-23 07:02:28  \n",
       "21239  2020-10-23 07:02:28  \n",
       "\n",
       "[21240 rows x 6 columns]"
      ],
      "text/html": "<div>\n<style scoped>\n    .dataframe tbody tr th:only-of-type {\n        vertical-align: middle;\n    }\n\n    .dataframe tbody tr th {\n        vertical-align: top;\n    }\n\n    .dataframe thead th {\n        text-align: right;\n    }\n</style>\n<table border=\"1\" class=\"dataframe\">\n  <thead>\n    <tr style=\"text-align: right;\">\n      <th></th>\n      <th>Id</th>\n      <th>Banner</th>\n      <th>Item</th>\n      <th>Type</th>\n      <th>Rarity</th>\n      <th>Date</th>\n    </tr>\n  </thead>\n  <tbody>\n    <tr>\n      <th>0</th>\n      <td>1</td>\n      <td>Novice</td>\n      <td>Raven Bow</td>\n      <td>Weapon</td>\n      <td>3</td>\n      <td>2020-09-28 23:59:36</td>\n    </tr>\n    <tr>\n      <th>1</th>\n      <td>1</td>\n      <td>Novice</td>\n      <td>Magic Guide</td>\n      <td>Weapon</td>\n      <td>3</td>\n      <td>2020-09-28 23:59:36</td>\n    </tr>\n    <tr>\n      <th>2</th>\n      <td>1</td>\n      <td>Novice</td>\n      <td>Ferrous Shadow</td>\n      <td>Weapon</td>\n      <td>3</td>\n      <td>2020-09-28 23:59:36</td>\n    </tr>\n    <tr>\n      <th>3</th>\n      <td>1</td>\n      <td>Novice</td>\n      <td>Bloodtainted Greatsword</td>\n      <td>Weapon</td>\n      <td>3</td>\n      <td>2020-09-28 23:59:36</td>\n    </tr>\n    <tr>\n      <th>4</th>\n      <td>1</td>\n      <td>Novice</td>\n      <td>Ferrous Shadow</td>\n      <td>Weapon</td>\n      <td>3</td>\n      <td>2020-09-28 23:59:36</td>\n    </tr>\n    <tr>\n      <th>...</th>\n      <td>...</td>\n      <td>...</td>\n      <td>...</td>\n      <td>...</td>\n      <td>...</td>\n      <td>...</td>\n    </tr>\n    <tr>\n      <th>21235</th>\n      <td>21</td>\n      <td>Novice</td>\n      <td>Cool Steel</td>\n      <td>Weapon</td>\n      <td>3</td>\n      <td>2020-10-23 07:02:28</td>\n    </tr>\n    <tr>\n      <th>21236</th>\n      <td>21</td>\n      <td>Novice</td>\n      <td>Ningguang</td>\n      <td>Character</td>\n      <td>4</td>\n      <td>2020-10-23 07:02:28</td>\n    </tr>\n    <tr>\n      <th>21237</th>\n      <td>21</td>\n      <td>Novice</td>\n      <td>Harbinger of Dawn</td>\n      <td>Weapon</td>\n      <td>3</td>\n      <td>2020-10-23 07:02:28</td>\n    </tr>\n    <tr>\n      <th>21238</th>\n      <td>21</td>\n      <td>Novice</td>\n      <td>Bloodtainted Greatsword</td>\n      <td>Weapon</td>\n      <td>3</td>\n      <td>2020-10-23 07:02:28</td>\n    </tr>\n    <tr>\n      <th>21239</th>\n      <td>21</td>\n      <td>Novice</td>\n      <td>Skyrider Sword</td>\n      <td>Weapon</td>\n      <td>3</td>\n      <td>2020-10-23 07:02:28</td>\n    </tr>\n  </tbody>\n</table>\n<p>21240 rows × 6 columns</p>\n</div>"
     },
     "metadata": {},
     "execution_count": 96
    }
   ],
   "source": [
    "rolls"
   ]
  },
  {
   "cell_type": "code",
   "execution_count": 114,
   "metadata": {},
   "outputs": [],
   "source": [
    "weapons = pd.DataFrame(columns=['Item','Rarity','Count'])\n",
    "temp = rolls.loc[rolls['Type']=='Weapon'].Item.unique()\n",
    "for w in temp:\n",
    "    r = rolls.loc[rolls['Item']==w]\n",
    "    x = r['Rarity'].iloc[0]\n",
    "    to_add = [w, x, len(r)]\n",
    "    weapons.loc[len(weapons.index)] = to_add"
   ]
  },
  {
   "cell_type": "code",
   "execution_count": 116,
   "metadata": {},
   "outputs": [
    {
     "output_type": "execute_result",
     "data": {
      "text/plain": [
       "                                 Item Rarity Count\n",
       "15                     Skyrider Sword      3  1467\n",
       "3             Bloodtainted Greatsword      3  1466\n",
       "5                 Sharpshooter's Oath      3  1463\n",
       "7                        Black Tassel      3  1414\n",
       "2                      Ferrous Shadow      3  1413\n",
       "8                           Slingshot      3  1388\n",
       "4   Thrilling Tales of Dragon Slayers      3  1387\n",
       "11                        Emerald Orb      3  1365\n",
       "6                   Harbinger of Dawn      3  1358\n",
       "0                           Raven Bow      3  1348\n",
       "1                         Magic Guide      3  1342\n",
       "12                        Debate Club      3  1336\n",
       "9                          Cool Steel      3  1300\n",
       "21                      Dragon's Bane      4   104\n",
       "14                  Eye of Perception      4   101\n",
       "24                     Favonius Lance      4    86\n",
       "31                        Lion's Roar      4    77\n",
       "18                    Sacrificial Bow      4    75\n",
       "17             Sacrificial Greatsword      4    75\n",
       "10                  Sacrificial Sword      4    72\n",
       "28                               Rust      4    71\n",
       "30                          The Flute      4    70\n",
       "16                    Favonius Warbow      4    66\n",
       "19                        The Widsith      4    64\n",
       "20                     Favonius Codex      4    63\n",
       "26              Sacrificial Fragments      4    59\n",
       "32                           The Bell      4    54\n",
       "23                     The Stringless      4    53\n",
       "29                Favonius Greatsword      4    43\n",
       "13                     Favonius Sword      4    43\n",
       "34                        Rainslasher      4    39\n",
       "40                       Lithic Blade      4    31\n",
       "41                       Lithic Spear      4    28\n",
       "35                      Skyward Pride      5    18\n",
       "33                  Wolf's Gravestone      5    16\n",
       "39       Primordial Jade Winged-Spear      5    13\n",
       "43             Primordial Jade Cutter      5    12\n",
       "36                          Amos' Bow      5    10\n",
       "25                      Skyward Blade      5     9\n",
       "42                      Staff of Homa      5     8\n",
       "44                       Skyward Harp      5     7\n",
       "22                      Skyward Atlas      5     7\n",
       "45                      Skyward Spine      5     5\n",
       "27    Lost Prayer to the Sacred Winds      5     5\n",
       "38                     Aquila Favonia      5     5\n",
       "37                      Summit Shaper      5     2\n",
       "46                     Memory of Dust      5     1\n",
       "47                       The Unforged      5     1\n",
       "48                  Vortex Vanquisher      5     1"
      ],
      "text/html": "<div>\n<style scoped>\n    .dataframe tbody tr th:only-of-type {\n        vertical-align: middle;\n    }\n\n    .dataframe tbody tr th {\n        vertical-align: top;\n    }\n\n    .dataframe thead th {\n        text-align: right;\n    }\n</style>\n<table border=\"1\" class=\"dataframe\">\n  <thead>\n    <tr style=\"text-align: right;\">\n      <th></th>\n      <th>Item</th>\n      <th>Rarity</th>\n      <th>Count</th>\n    </tr>\n  </thead>\n  <tbody>\n    <tr>\n      <th>15</th>\n      <td>Skyrider Sword</td>\n      <td>3</td>\n      <td>1467</td>\n    </tr>\n    <tr>\n      <th>3</th>\n      <td>Bloodtainted Greatsword</td>\n      <td>3</td>\n      <td>1466</td>\n    </tr>\n    <tr>\n      <th>5</th>\n      <td>Sharpshooter's Oath</td>\n      <td>3</td>\n      <td>1463</td>\n    </tr>\n    <tr>\n      <th>7</th>\n      <td>Black Tassel</td>\n      <td>3</td>\n      <td>1414</td>\n    </tr>\n    <tr>\n      <th>2</th>\n      <td>Ferrous Shadow</td>\n      <td>3</td>\n      <td>1413</td>\n    </tr>\n    <tr>\n      <th>8</th>\n      <td>Slingshot</td>\n      <td>3</td>\n      <td>1388</td>\n    </tr>\n    <tr>\n      <th>4</th>\n      <td>Thrilling Tales of Dragon Slayers</td>\n      <td>3</td>\n      <td>1387</td>\n    </tr>\n    <tr>\n      <th>11</th>\n      <td>Emerald Orb</td>\n      <td>3</td>\n      <td>1365</td>\n    </tr>\n    <tr>\n      <th>6</th>\n      <td>Harbinger of Dawn</td>\n      <td>3</td>\n      <td>1358</td>\n    </tr>\n    <tr>\n      <th>0</th>\n      <td>Raven Bow</td>\n      <td>3</td>\n      <td>1348</td>\n    </tr>\n    <tr>\n      <th>1</th>\n      <td>Magic Guide</td>\n      <td>3</td>\n      <td>1342</td>\n    </tr>\n    <tr>\n      <th>12</th>\n      <td>Debate Club</td>\n      <td>3</td>\n      <td>1336</td>\n    </tr>\n    <tr>\n      <th>9</th>\n      <td>Cool Steel</td>\n      <td>3</td>\n      <td>1300</td>\n    </tr>\n    <tr>\n      <th>21</th>\n      <td>Dragon's Bane</td>\n      <td>4</td>\n      <td>104</td>\n    </tr>\n    <tr>\n      <th>14</th>\n      <td>Eye of Perception</td>\n      <td>4</td>\n      <td>101</td>\n    </tr>\n    <tr>\n      <th>24</th>\n      <td>Favonius Lance</td>\n      <td>4</td>\n      <td>86</td>\n    </tr>\n    <tr>\n      <th>31</th>\n      <td>Lion's Roar</td>\n      <td>4</td>\n      <td>77</td>\n    </tr>\n    <tr>\n      <th>18</th>\n      <td>Sacrificial Bow</td>\n      <td>4</td>\n      <td>75</td>\n    </tr>\n    <tr>\n      <th>17</th>\n      <td>Sacrificial Greatsword</td>\n      <td>4</td>\n      <td>75</td>\n    </tr>\n    <tr>\n      <th>10</th>\n      <td>Sacrificial Sword</td>\n      <td>4</td>\n      <td>72</td>\n    </tr>\n    <tr>\n      <th>28</th>\n      <td>Rust</td>\n      <td>4</td>\n      <td>71</td>\n    </tr>\n    <tr>\n      <th>30</th>\n      <td>The Flute</td>\n      <td>4</td>\n      <td>70</td>\n    </tr>\n    <tr>\n      <th>16</th>\n      <td>Favonius Warbow</td>\n      <td>4</td>\n      <td>66</td>\n    </tr>\n    <tr>\n      <th>19</th>\n      <td>The Widsith</td>\n      <td>4</td>\n      <td>64</td>\n    </tr>\n    <tr>\n      <th>20</th>\n      <td>Favonius Codex</td>\n      <td>4</td>\n      <td>63</td>\n    </tr>\n    <tr>\n      <th>26</th>\n      <td>Sacrificial Fragments</td>\n      <td>4</td>\n      <td>59</td>\n    </tr>\n    <tr>\n      <th>32</th>\n      <td>The Bell</td>\n      <td>4</td>\n      <td>54</td>\n    </tr>\n    <tr>\n      <th>23</th>\n      <td>The Stringless</td>\n      <td>4</td>\n      <td>53</td>\n    </tr>\n    <tr>\n      <th>29</th>\n      <td>Favonius Greatsword</td>\n      <td>4</td>\n      <td>43</td>\n    </tr>\n    <tr>\n      <th>13</th>\n      <td>Favonius Sword</td>\n      <td>4</td>\n      <td>43</td>\n    </tr>\n    <tr>\n      <th>34</th>\n      <td>Rainslasher</td>\n      <td>4</td>\n      <td>39</td>\n    </tr>\n    <tr>\n      <th>40</th>\n      <td>Lithic Blade</td>\n      <td>4</td>\n      <td>31</td>\n    </tr>\n    <tr>\n      <th>41</th>\n      <td>Lithic Spear</td>\n      <td>4</td>\n      <td>28</td>\n    </tr>\n    <tr>\n      <th>35</th>\n      <td>Skyward Pride</td>\n      <td>5</td>\n      <td>18</td>\n    </tr>\n    <tr>\n      <th>33</th>\n      <td>Wolf's Gravestone</td>\n      <td>5</td>\n      <td>16</td>\n    </tr>\n    <tr>\n      <th>39</th>\n      <td>Primordial Jade Winged-Spear</td>\n      <td>5</td>\n      <td>13</td>\n    </tr>\n    <tr>\n      <th>43</th>\n      <td>Primordial Jade Cutter</td>\n      <td>5</td>\n      <td>12</td>\n    </tr>\n    <tr>\n      <th>36</th>\n      <td>Amos' Bow</td>\n      <td>5</td>\n      <td>10</td>\n    </tr>\n    <tr>\n      <th>25</th>\n      <td>Skyward Blade</td>\n      <td>5</td>\n      <td>9</td>\n    </tr>\n    <tr>\n      <th>42</th>\n      <td>Staff of Homa</td>\n      <td>5</td>\n      <td>8</td>\n    </tr>\n    <tr>\n      <th>44</th>\n      <td>Skyward Harp</td>\n      <td>5</td>\n      <td>7</td>\n    </tr>\n    <tr>\n      <th>22</th>\n      <td>Skyward Atlas</td>\n      <td>5</td>\n      <td>7</td>\n    </tr>\n    <tr>\n      <th>45</th>\n      <td>Skyward Spine</td>\n      <td>5</td>\n      <td>5</td>\n    </tr>\n    <tr>\n      <th>27</th>\n      <td>Lost Prayer to the Sacred Winds</td>\n      <td>5</td>\n      <td>5</td>\n    </tr>\n    <tr>\n      <th>38</th>\n      <td>Aquila Favonia</td>\n      <td>5</td>\n      <td>5</td>\n    </tr>\n    <tr>\n      <th>37</th>\n      <td>Summit Shaper</td>\n      <td>5</td>\n      <td>2</td>\n    </tr>\n    <tr>\n      <th>46</th>\n      <td>Memory of Dust</td>\n      <td>5</td>\n      <td>1</td>\n    </tr>\n    <tr>\n      <th>47</th>\n      <td>The Unforged</td>\n      <td>5</td>\n      <td>1</td>\n    </tr>\n    <tr>\n      <th>48</th>\n      <td>Vortex Vanquisher</td>\n      <td>5</td>\n      <td>1</td>\n    </tr>\n  </tbody>\n</table>\n</div>"
     },
     "metadata": {},
     "execution_count": 116
    }
   ],
   "source": [
    "weapons.sort_values(by='Count', ascending=False)"
   ]
  },
  {
   "cell_type": "code",
   "execution_count": 117,
   "metadata": {},
   "outputs": [],
   "source": [
    "characters = pd.DataFrame(columns=['Character','Rarity','Count'])\n",
    "temp = rolls.loc[rolls['Type']=='Character'].Item.unique()\n",
    "for w in temp:\n",
    "    r = rolls.loc[rolls['Item']==w]\n",
    "    x = r['Rarity'].iloc[0]\n",
    "    to_add = [w, x, len(r)]\n",
    "    characters.loc[len(characters.index)] = to_add"
   ]
  },
  {
   "cell_type": "code",
   "execution_count": 120,
   "metadata": {},
   "outputs": [
    {
     "output_type": "execute_result",
     "data": {
      "text/plain": [
       "    Character Rarity Count\n",
       "6   Xiangling      4   207\n",
       "19    Xingqiu      4   160\n",
       "0      Noelle      4   157\n",
       "10    Sucrose      4   126\n",
       "1    Chongyun      4   121\n",
       "2      Fischl      4   117\n",
       "16     Xinyan      4   111\n",
       "18     Beidou      4   100\n",
       "12    Barbara      4    95\n",
       "14      Razor      4    88\n",
       "5     Bennett      4    82\n",
       "13      Diona      4    76\n",
       "21  Ningguang      4    56\n",
       "8        Lisa      4    42\n",
       "17     Keqing      5    37\n",
       "3       Kaeya      4    28\n",
       "20       Qiqi      5    23\n",
       "26      Ganyu      5    20\n",
       "9       Diluc      5    19\n",
       "25       Mona      5    18\n",
       "11      Venti      5    17\n",
       "4        Jean      5    17\n",
       "15    Zhongli      5    15\n",
       "27       Xiao      5    15\n",
       "7       Amber      4    13\n",
       "22       Klee      5    11\n",
       "23  Tartaglia      5    10\n",
       "24     Albedo      5     9\n",
       "28     Hu Tao      5     9"
      ],
      "text/html": "<div>\n<style scoped>\n    .dataframe tbody tr th:only-of-type {\n        vertical-align: middle;\n    }\n\n    .dataframe tbody tr th {\n        vertical-align: top;\n    }\n\n    .dataframe thead th {\n        text-align: right;\n    }\n</style>\n<table border=\"1\" class=\"dataframe\">\n  <thead>\n    <tr style=\"text-align: right;\">\n      <th></th>\n      <th>Character</th>\n      <th>Rarity</th>\n      <th>Count</th>\n    </tr>\n  </thead>\n  <tbody>\n    <tr>\n      <th>6</th>\n      <td>Xiangling</td>\n      <td>4</td>\n      <td>207</td>\n    </tr>\n    <tr>\n      <th>19</th>\n      <td>Xingqiu</td>\n      <td>4</td>\n      <td>160</td>\n    </tr>\n    <tr>\n      <th>0</th>\n      <td>Noelle</td>\n      <td>4</td>\n      <td>157</td>\n    </tr>\n    <tr>\n      <th>10</th>\n      <td>Sucrose</td>\n      <td>4</td>\n      <td>126</td>\n    </tr>\n    <tr>\n      <th>1</th>\n      <td>Chongyun</td>\n      <td>4</td>\n      <td>121</td>\n    </tr>\n    <tr>\n      <th>2</th>\n      <td>Fischl</td>\n      <td>4</td>\n      <td>117</td>\n    </tr>\n    <tr>\n      <th>16</th>\n      <td>Xinyan</td>\n      <td>4</td>\n      <td>111</td>\n    </tr>\n    <tr>\n      <th>18</th>\n      <td>Beidou</td>\n      <td>4</td>\n      <td>100</td>\n    </tr>\n    <tr>\n      <th>12</th>\n      <td>Barbara</td>\n      <td>4</td>\n      <td>95</td>\n    </tr>\n    <tr>\n      <th>14</th>\n      <td>Razor</td>\n      <td>4</td>\n      <td>88</td>\n    </tr>\n    <tr>\n      <th>5</th>\n      <td>Bennett</td>\n      <td>4</td>\n      <td>82</td>\n    </tr>\n    <tr>\n      <th>13</th>\n      <td>Diona</td>\n      <td>4</td>\n      <td>76</td>\n    </tr>\n    <tr>\n      <th>21</th>\n      <td>Ningguang</td>\n      <td>4</td>\n      <td>56</td>\n    </tr>\n    <tr>\n      <th>8</th>\n      <td>Lisa</td>\n      <td>4</td>\n      <td>42</td>\n    </tr>\n    <tr>\n      <th>17</th>\n      <td>Keqing</td>\n      <td>5</td>\n      <td>37</td>\n    </tr>\n    <tr>\n      <th>3</th>\n      <td>Kaeya</td>\n      <td>4</td>\n      <td>28</td>\n    </tr>\n    <tr>\n      <th>20</th>\n      <td>Qiqi</td>\n      <td>5</td>\n      <td>23</td>\n    </tr>\n    <tr>\n      <th>26</th>\n      <td>Ganyu</td>\n      <td>5</td>\n      <td>20</td>\n    </tr>\n    <tr>\n      <th>9</th>\n      <td>Diluc</td>\n      <td>5</td>\n      <td>19</td>\n    </tr>\n    <tr>\n      <th>25</th>\n      <td>Mona</td>\n      <td>5</td>\n      <td>18</td>\n    </tr>\n    <tr>\n      <th>11</th>\n      <td>Venti</td>\n      <td>5</td>\n      <td>17</td>\n    </tr>\n    <tr>\n      <th>4</th>\n      <td>Jean</td>\n      <td>5</td>\n      <td>17</td>\n    </tr>\n    <tr>\n      <th>15</th>\n      <td>Zhongli</td>\n      <td>5</td>\n      <td>15</td>\n    </tr>\n    <tr>\n      <th>27</th>\n      <td>Xiao</td>\n      <td>5</td>\n      <td>15</td>\n    </tr>\n    <tr>\n      <th>7</th>\n      <td>Amber</td>\n      <td>4</td>\n      <td>13</td>\n    </tr>\n    <tr>\n      <th>22</th>\n      <td>Klee</td>\n      <td>5</td>\n      <td>11</td>\n    </tr>\n    <tr>\n      <th>23</th>\n      <td>Tartaglia</td>\n      <td>5</td>\n      <td>10</td>\n    </tr>\n    <tr>\n      <th>24</th>\n      <td>Albedo</td>\n      <td>5</td>\n      <td>9</td>\n    </tr>\n    <tr>\n      <th>28</th>\n      <td>Hu Tao</td>\n      <td>5</td>\n      <td>9</td>\n    </tr>\n  </tbody>\n</table>\n</div>"
     },
     "metadata": {},
     "execution_count": 120
    }
   ],
   "source": [
    "characters.sort_values(by='Count', ascending=False)"
   ]
  },
  {
   "cell_type": "code",
   "execution_count": null,
   "metadata": {},
   "outputs": [],
   "source": []
  }
 ]
}